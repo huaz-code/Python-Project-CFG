{
 "cells": [
  {
   "cell_type": "code",
   "execution_count": 9,
   "id": "2843a322-f5e6-4674-9fc6-6528cf7004e4",
   "metadata": {},
   "outputs": [],
   "source": [
    "import csv\n",
    "import pandas as pd\n",
    "\n"
   ]
  },
  {
   "cell_type": "code",
   "execution_count": null,
   "id": "5dd56c43-1629-4de5-b53e-39234244898c",
   "metadata": {},
   "outputs": [],
   "source": [
    "def read_data():\n",
    "    data=[]\n",
    "    \n",
    "    with open('sales.csv','r') as sales_csv:\n",
    "        spreadsheet=csv.DictReader(sales_csv)\n",
    "        for row in spreadsheet:\n",
    "            data.append(row)\n",
    "\n",
    "    return data\n",
    "\n",
    "def run():\n",
    "    data=read_data()\n",
    "\n",
    "    sales=[]\n",
    "    for row in data:\n",
    "        sale=int(row['sales'])\n",
    "        sales.append(sale)\n",
    "\n",
    "\n",
    "run()\n"
   ]
  },
  {
   "cell_type": "code",
   "execution_count": 26,
   "id": "cb90aaa9-e835-4ce4-8528-b9d068516a78",
   "metadata": {},
   "outputs": [
    {
     "data": {
      "text/plain": [
       "['6226',\n",
       " '1521',\n",
       " '1842',\n",
       " '2051',\n",
       " '1728',\n",
       " '2138',\n",
       " '7479',\n",
       " '4434',\n",
       " '3615',\n",
       " '5472',\n",
       " '7224',\n",
       " '1812']"
      ]
     },
     "execution_count": 26,
     "metadata": {},
     "output_type": "execute_result"
    }
   ],
   "source": [
    "df=pd.DataFrame(read_data())\n",
    "df['sales'].tolist()"
   ]
  },
  {
   "cell_type": "code",
   "execution_count": 25,
   "id": "0e237909-1a23-4153-ab92-db6ab2c67223",
   "metadata": {},
   "outputs": [
    {
     "name": "stdout",
     "output_type": "stream",
     "text": [
      "Total sales:45542.0\n"
     ]
    }
   ],
   "source": [
    "total=df['sales'].astype(float).sum()\n",
    "print('Total sales:{}'.format(total))"
   ]
  },
  {
   "cell_type": "code",
   "execution_count": null,
   "id": "aba085b5-7c20-4cad-903d-11f275813052",
   "metadata": {},
   "outputs": [],
   "source": []
  },
  {
   "cell_type": "code",
   "execution_count": null,
   "id": "deb7d256-0487-4045-a2ff-f0a299b76adb",
   "metadata": {},
   "outputs": [],
   "source": [
    "#import csv to work with CSV files and pandas to work with dataframes\n",
    "import csv\n",
    "import pandas as pd\n",
    "\n",
    "#Required Task 1\n",
    "#open and read the data in CSV, creating a data spreadsheet to which we add each row read from the csv file\n",
    "def read_data():\n",
    "    data=[]\n",
    "    \n",
    "    with open('sales.csv','r') as sales_csv:\n",
    "        spreadsheet=csv.DictReader(sales_csv)\n",
    "        for row in spreadsheet:\n",
    "            data.append(row)\n",
    "\n",
    "    return data\n",
    "\n",
    "#define a function to read the main logic, and read the rows for sales\n",
    "\n",
    "def run():\n",
    "    data=read_data()\n",
    "\n",
    "    sales=[]\n",
    "    row ifor n data:\n",
    "        sale=int(row['sales'])\n",
    "        sales.append(sale)\n",
    "\n",
    "\n",
    "#run the function defined previously\n",
    "run()\n",
    "\n",
    "#Required Task 2\n",
    "#convert data into dataframe using pandas\n",
    "df=pd.DataFrame(read_data())\n",
    "\n",
    "#show dataframe as a list\n",
    "df['sales'].tolist()\n",
    "\n",
    "#Required Task 3\n",
    "#sum up and print total\n",
    "total=df['sales'].astype(float).sum()\n",
    "print('Total sales:{}'.format(total))"
   ]
  },
  {
   "cell_type": "code",
   "execution_count": null,
   "id": "d1b18c87-783f-406e-9e09-3b7d6c349247",
   "metadata": {},
   "outputs": [],
   "source": []
  },
  {
   "cell_type": "code",
   "execution_count": null,
   "id": "6b2dac1f-85f2-401b-b16e-d6129d329fd5",
   "metadata": {},
   "outputs": [],
   "source": []
  },
  {
   "cell_type": "code",
   "execution_count": null,
   "id": "904ef710-1418-4e1b-85b5-45bb7eb38878",
   "metadata": {},
   "outputs": [],
   "source": []
  }
 ],
 "metadata": {
  "kernelspec": {
   "display_name": "Python 3 (ipykernel)",
   "language": "python",
   "name": "python3"
  },
  "language_info": {
   "codemirror_mode": {
    "name": "ipython",
    "version": 3
   },
   "file_extension": ".py",
   "mimetype": "text/x-python",
   "name": "python",
   "nbconvert_exporter": "python",
   "pygments_lexer": "ipython3",
   "version": "3.11.7"
  }
 },
 "nbformat": 4,
 "nbformat_minor": 5
}
