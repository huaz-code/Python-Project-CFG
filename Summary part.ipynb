{
 "cells": [
  {
   "cell_type": "code",
   "execution_count": 1,
   "id": "cb5b2e51-733d-43f1-9f25-8b6c1236408a",
   "metadata": {},
   "outputs": [],
   "source": [
    "import pandas as pd"
   ]
  },
  {
   "cell_type": "code",
   "execution_count": 2,
   "id": "c65fac86-cfed-4638-b655-aa785ea8ac6f",
   "metadata": {},
   "outputs": [],
   "source": [
    "#load data from given csv file 'sales.csv')\n",
    "df=pd.read_csv('sales.csv')"
   ]
  },
  {
   "cell_type": "code",
   "execution_count": 3,
   "id": "1c7273c5-2869-4ad2-9dcc-b5bfbf0910f9",
   "metadata": {},
   "outputs": [],
   "source": [
    "#group the data by months\n",
    "monthly_sales=df.groupby('month')['sales'].sum().reset_index()"
   ]
  },
  {
   "cell_type": "code",
   "execution_count": 4,
   "id": "e4b737ef-8e99-4068-b023-b8b57fbc756d",
   "metadata": {},
   "outputs": [],
   "source": [
    "#calculate the total sales\n",
    "total_sales=df['sales'].sum()"
   ]
  },
  {
   "cell_type": "code",
   "execution_count": 5,
   "id": "9a901da4-dd35-45d0-9b69-c5f7642f2c8c",
   "metadata": {},
   "outputs": [],
   "source": [
    "#create new data frame for months and sales\n",
    "summary_df=pd.DataFrame({'Month':monthly_sales['month'],'Monthly Sales':monthly_sales['sales']})"
   ]
  },
  {
   "cell_type": "code",
   "execution_count": 7,
   "id": "f91f88fc-42dd-431b-8490-fcd7b5b86826",
   "metadata": {},
   "outputs": [],
   "source": [
    "#add total to the summary dataframe\n",
    "summary_df.loc[len(summary_df)]=['Total',total_sales]"
   ]
  },
  {
   "cell_type": "code",
   "execution_count": 10,
   "id": "b1974f2c-a5b6-4249-9996-e355bbdc7b45",
   "metadata": {},
   "outputs": [],
   "source": [
    "#add dataframe to a new csv file\n",
    "summary_df.to_csv('summary_data.csv')"
   ]
  },
  {
   "cell_type": "code",
   "execution_count": null,
   "id": "568ed12c-5c2a-4a83-b307-e31106cf5d07",
   "metadata": {},
   "outputs": [],
   "source": []
  },
  {
   "cell_type": "code",
   "execution_count": null,
   "id": "c7f8b088-6f27-4f21-8860-1814541d7ab0",
   "metadata": {},
   "outputs": [],
   "source": [
    "import pandas as pd\n",
    "\n",
    "#load data from given csv file 'sales.csv')\n",
    "df=pd.read_csv('sales.csv')\n",
    "\n",
    "#group the data by months\n",
    "monthly_sales=df.groupby('month')['sales'].sum().reset_index()\n",
    "\n",
    "#calculate the total sales\n",
    "total_sales=df['sales'].sum()\n",
    "\n",
    "#create new data frame for months and sales\n",
    "summary_df=pd.DataFrame({'Month':monthly_sales['month'],'Monthly Sales':monthly_sales['sales']})\n",
    "\n",
    "#add total to the summary dataframe\n",
    "summary_df.loc[len(summary_df)]=['Total',total_sales]\n",
    "\n",
    "#add dataframe to a new csv file\n",
    "summary_df.to_csv('summary_data.csv')"
   ]
  }
 ],
 "metadata": {
  "kernelspec": {
   "display_name": "Python 3 (ipykernel)",
   "language": "python",
   "name": "python3"
  },
  "language_info": {
   "codemirror_mode": {
    "name": "ipython",
    "version": 3
   },
   "file_extension": ".py",
   "mimetype": "text/x-python",
   "name": "python",
   "nbconvert_exporter": "python",
   "pygments_lexer": "ipython3",
   "version": "3.11.7"
  }
 },
 "nbformat": 4,
 "nbformat_minor": 5
}
